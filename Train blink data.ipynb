{
 "cells": [
  {
   "cell_type": "code",
   "execution_count": 1,
   "metadata": {
    "collapsed": true
   },
   "outputs": [],
   "source": [
    "import datetime\n",
    "import numpy as np\n",
    "import matplotlib.pyplot as plt\n",
    "from keras.layers import Input, Activation, Conv2D, Flatten, Dense, MaxPooling2D\n",
    "from keras.models import Model, load_model\n",
    "from keras.preprocessing.image import ImageDataGenerator\n",
    "from keras.callbacks import ModelCheckpoint, ReduceLROnPlateau\n",
    "plt.style.use('dark_background')"
   ]
  },
  {
   "cell_type": "markdown",
   "source": [
    "# Load Dataset"
   ],
   "metadata": {
    "collapsed": false
   }
  },
  {
   "cell_type": "code",
   "execution_count": 2,
   "outputs": [
    {
     "name": "stdout",
     "output_type": "stream",
     "text": [
      "(2586, 26, 34, 1) (2586, 1)\n",
      "(288, 26, 34, 1) (288, 1)\n"
     ]
    }
   ],
   "source": [
    "x_train = np.load('data/Eye blink/x_train.npy').astype(np.float32)\n",
    "y_train = np.load('data/Eye blink/y_train.npy').astype(np.float32)\n",
    "x_val = np.load('data/Eye blink/x_val.npy').astype(np.float32)\n",
    "y_val = np.load('data/Eye blink/y_val.npy').astype(np.float32)\n",
    "\n",
    "print(x_train.shape, y_train.shape)\n",
    "print(x_val.shape, y_val.shape)"
   ],
   "metadata": {
    "collapsed": false
   }
  },
  {
   "cell_type": "markdown",
   "source": [
    "# Preview"
   ],
   "metadata": {
    "collapsed": false
   }
  },
  {
   "cell_type": "code",
   "execution_count": 3,
   "outputs": [
    {
     "data": {
      "text/plain": "<matplotlib.image.AxesImage at 0x235597d68e0>"
     },
     "execution_count": 3,
     "metadata": {},
     "output_type": "execute_result"
    },
    {
     "data": {
      "text/plain": "<Figure size 640x480 with 2 Axes>",
      "image/png": "[encoded data removed]"
     },
     "metadata": {},
     "output_type": "display_data"
    }
   ],
   "source": [
    "plt.subplot(2, 1, 1)\n",
    "plt.title(str(y_train[0]))\n",
    "plt.imshow(x_train[0].reshape((26, 34)), cmap='gray')\n",
    "plt.subplot(2, 1, 2)\n",
    "plt.title(str(y_val[4]))\n",
    "plt.imshow(x_val[4].reshape((26, 34)), cmap='gray')"
   ],
   "metadata": {
    "collapsed": false
   }
  },
  {
   "cell_type": "markdown",
   "source": [
    "# Data Augmentation"
   ],
   "metadata": {
    "collapsed": false
   }
  },
  {
   "cell_type": "code",
   "execution_count": 4,
   "outputs": [],
   "source": [
    "train_datagen = ImageDataGenerator(\n",
    "    rescale=1./255,\n",
    "    rotation_range=10,\n",
    "    width_shift_range=0.2,\n",
    "    height_shift_range=0.2,\n",
    "    shear_range=0.2\n",
    ")\n",
    "\n",
    "val_datagen = ImageDataGenerator(rescale=1./255)\n",
    "\n",
    "train_generator = train_datagen.flow(\n",
    "    x=x_train, y=y_train,\n",
    "    batch_size=32,\n",
    "    shuffle=True\n",
    ")\n",
    "\n",
    "val_generator = val_datagen.flow(\n",
    "    x=x_val, y=y_val,\n",
    "    batch_size=32,\n",
    "    shuffle=False\n",
    ")"
   ],
   "metadata": {
    "collapsed": false
   }
  },
  {
   "cell_type": "markdown",
   "source": [
    "# Build Model"
   ],
   "metadata": {
    "collapsed": false
   }
  },
  {
   "cell_type": "code",
   "execution_count": 5,
   "outputs": [
    {
     "name": "stdout",
     "output_type": "stream",
     "text": [
      "Model: \"model\"\n",
      "_________________________________________________________________\n",
      " Layer (type)                Output Shape              Param #   \n",
      "=================================================================\n",
      " input_1 (InputLayer)        [(None, 26, 34, 1)]       0         \n",
      "                                                                 \n",
      " conv2d (Conv2D)             (None, 26, 34, 32)        320       \n",
      "                                                                 \n",
      " max_pooling2d (MaxPooling2  (None, 13, 17, 32)        0         \n",
      " D)                                                              \n",
      "                                                                 \n",
      " conv2d_1 (Conv2D)           (None, 13, 17, 64)        18496     \n",
      "                                                                 \n",
      " max_pooling2d_1 (MaxPoolin  (None, 6, 8, 64)          0         \n",
      " g2D)                                                            \n",
      "                                                                 \n",
      " conv2d_2 (Conv2D)           (None, 6, 8, 128)         73856     \n",
      "                                                                 \n",
      " max_pooling2d_2 (MaxPoolin  (None, 3, 4, 128)         0         \n",
      " g2D)                                                            \n",
      "                                                                 \n",
      " flatten (Flatten)           (None, 1536)              0         \n",
      "                                                                 \n",
      " dense (Dense)               (None, 512)               786944    \n",
      "                                                                 \n",
      " activation (Activation)     (None, 512)               0         \n",
      "                                                                 \n",
      " dense_1 (Dense)             (None, 1)                 513       \n",
      "                                                                 \n",
      " activation_1 (Activation)   (None, 1)                 0         \n",
      "                                                                 \n",
      "=================================================================\n",
      "Total params: 880129 (3.36 MB)\n",
      "Trainable params: 880129 (3.36 MB)\n",
      "Non-trainable params: 0 (0.00 Byte)\n",
      "_________________________________________________________________\n"
     ]
    }
   ],
   "source": [
    "inputs = Input(shape=(26, 34, 1))\n",
    "\n",
    "net = Conv2D(32, kernel_size=3, strides=1, padding='same', activation='relu')(inputs)\n",
    "net = MaxPooling2D(pool_size=2)(net)\n",
    "\n",
    "net = Conv2D(64, kernel_size=3, strides=1, padding='same', activation='relu')(net)\n",
    "net = MaxPooling2D(pool_size=2)(net)\n",
    "\n",
    "net = Conv2D(128, kernel_size=3, strides=1, padding='same', activation='relu')(net)\n",
    "net = MaxPooling2D(pool_size=2)(net)\n",
    "\n",
    "net = Flatten()(net)\n",
    "\n",
    "net = Dense(512)(net)\n",
    "net = Activation('relu')(net)\n",
    "net = Dense(1)(net)\n",
    "outputs = Activation('sigmoid')(net)\n",
    "\n",
    "model = Model(inputs=inputs, outputs=outputs)\n",
    "\n",
    "model.compile(optimizer='adam', loss='binary_crossentropy', metrics=['acc'])\n",
    "\n",
    "model.summary()"
   ],
   "metadata": {
    "collapsed": false
   }
  },
  {
   "cell_type": "markdown",
   "source": [
    "# Train"
   ],
   "metadata": {
    "collapsed": false
   }
  },
  {
   "cell_type": "code",
   "execution_count": 7,
   "outputs": [
    {
     "name": "stdout",
     "output_type": "stream",
     "text": [
      "Epoch 1/50\n"
     ]
    },
    {
     "name": "stderr",
     "output_type": "stream",
     "text": [
      "C:\\Users\\Windows\\AppData\\Local\\Temp\\ipykernel_11780\\892079145.py:1: UserWarning: `Model.fit_generator` is deprecated and will be removed in a future version. Please use `Model.fit`, which supports generators.\n",
      "  model.fit_generator(\n"
     ]
    },
    {
     "name": "stdout",
     "output_type": "stream",
     "text": [
      "81/81 [==============================] - ETA: 0s - loss: 0.0036 - acc: 0.9981\n",
      "Epoch 1: val_acc improved from -inf to 0.99653, saving model to models.h5\n",
      "81/81 [==============================] - 5s 55ms/step - loss: 0.0036 - acc: 0.9981 - val_loss: 0.0059 - val_acc: 0.9965 - lr: 1.0000e-05\n",
      "Epoch 2/50\n",
      "81/81 [==============================] - ETA: 0s - loss: 0.0041 - acc: 0.9988\n",
      "Epoch 2: val_acc did not improve from 0.99653\n",
      "81/81 [==============================] - 5s 65ms/step - loss: 0.0041 - acc: 0.9988 - val_loss: 0.0063 - val_acc: 0.9965 - lr: 1.0000e-05\n",
      "Epoch 3/50\n",
      "81/81 [==============================] - ETA: 0s - loss: 0.0042 - acc: 0.9981\n",
      "Epoch 3: val_acc did not improve from 0.99653\n",
      "81/81 [==============================] - 5s 66ms/step - loss: 0.0042 - acc: 0.9981 - val_loss: 0.0063 - val_acc: 0.9965 - lr: 1.0000e-05\n",
      "Epoch 4/50\n",
      "81/81 [==============================] - ETA: 0s - loss: 0.0044 - acc: 0.9988\n",
      "Epoch 4: val_acc did not improve from 0.99653\n",
      "81/81 [==============================] - 5s 58ms/step - loss: 0.0044 - acc: 0.9988 - val_loss: 0.0062 - val_acc: 0.9965 - lr: 1.0000e-05\n",
      "Epoch 5/50\n",
      "81/81 [==============================] - ETA: 0s - loss: 0.0028 - acc: 0.9992\n",
      "Epoch 5: val_acc did not improve from 0.99653\n",
      "81/81 [==============================] - 5s 65ms/step - loss: 0.0028 - acc: 0.9992 - val_loss: 0.0061 - val_acc: 0.9965 - lr: 1.0000e-05\n",
      "Epoch 6/50\n",
      "81/81 [==============================] - ETA: 0s - loss: 0.0061 - acc: 0.9981\n",
      "Epoch 6: val_acc did not improve from 0.99653\n",
      "81/81 [==============================] - 6s 71ms/step - loss: 0.0061 - acc: 0.9981 - val_loss: 0.0063 - val_acc: 0.9965 - lr: 1.0000e-05\n",
      "Epoch 7/50\n",
      "80/81 [============================>.] - ETA: 0s - loss: 0.0036 - acc: 0.9988\n",
      "Epoch 7: val_acc did not improve from 0.99653\n",
      "81/81 [==============================] - 5s 61ms/step - loss: 0.0036 - acc: 0.9988 - val_loss: 0.0062 - val_acc: 0.9965 - lr: 1.0000e-05\n",
      "Epoch 8/50\n",
      "81/81 [==============================] - ETA: 0s - loss: 0.0020 - acc: 0.9992\n",
      "Epoch 8: val_acc did not improve from 0.99653\n",
      "81/81 [==============================] - 5s 62ms/step - loss: 0.0020 - acc: 0.9992 - val_loss: 0.0063 - val_acc: 0.9965 - lr: 1.0000e-05\n",
      "Epoch 9/50\n",
      "80/81 [============================>.] - ETA: 0s - loss: 0.0029 - acc: 0.9984\n",
      "Epoch 9: val_acc did not improve from 0.99653\n",
      "81/81 [==============================] - 5s 59ms/step - loss: 0.0029 - acc: 0.9985 - val_loss: 0.0067 - val_acc: 0.9965 - lr: 1.0000e-05\n",
      "Epoch 10/50\n",
      "81/81 [==============================] - ETA: 0s - loss: 0.0035 - acc: 0.9992\n",
      "Epoch 10: val_acc did not improve from 0.99653\n",
      "81/81 [==============================] - 4s 55ms/step - loss: 0.0035 - acc: 0.9992 - val_loss: 0.0063 - val_acc: 0.9965 - lr: 1.0000e-05\n",
      "Epoch 11/50\n",
      "81/81 [==============================] - ETA: 0s - loss: 0.0040 - acc: 0.9988\n",
      "Epoch 11: val_acc did not improve from 0.99653\n",
      "81/81 [==============================] - 4s 49ms/step - loss: 0.0040 - acc: 0.9988 - val_loss: 0.0064 - val_acc: 0.9965 - lr: 1.0000e-05\n",
      "Epoch 12/50\n",
      "81/81 [==============================] - ETA: 0s - loss: 0.0031 - acc: 0.9985\n",
      "Epoch 12: val_acc did not improve from 0.99653\n",
      "81/81 [==============================] - 4s 55ms/step - loss: 0.0031 - acc: 0.9985 - val_loss: 0.0060 - val_acc: 0.9965 - lr: 1.0000e-05\n",
      "Epoch 13/50\n",
      "81/81 [==============================] - ETA: 0s - loss: 0.0023 - acc: 0.9996\n",
      "Epoch 13: val_acc did not improve from 0.99653\n",
      "81/81 [==============================] - 5s 55ms/step - loss: 0.0023 - acc: 0.9996 - val_loss: 0.0061 - val_acc: 0.9965 - lr: 1.0000e-05\n",
      "Epoch 14/50\n",
      "80/81 [============================>.] - ETA: 0s - loss: 0.0036 - acc: 0.9984\n",
      "Epoch 14: val_acc did not improve from 0.99653\n",
      "81/81 [==============================] - 4s 54ms/step - loss: 0.0036 - acc: 0.9985 - val_loss: 0.0059 - val_acc: 0.9965 - lr: 1.0000e-05\n",
      "Epoch 15/50\n",
      "80/81 [============================>.] - ETA: 0s - loss: 0.0042 - acc: 0.9984\n",
      "Epoch 15: val_acc did not improve from 0.99653\n",
      "81/81 [==============================] - 4s 51ms/step - loss: 0.0049 - acc: 0.9977 - val_loss: 0.0060 - val_acc: 0.9965 - lr: 1.0000e-05\n",
      "Epoch 16/50\n",
      "80/81 [============================>.] - ETA: 0s - loss: 0.0018 - acc: 0.9992\n",
      "Epoch 16: val_acc did not improve from 0.99653\n",
      "81/81 [==============================] - 4s 51ms/step - loss: 0.0020 - acc: 0.9992 - val_loss: 0.0061 - val_acc: 0.9965 - lr: 1.0000e-05\n",
      "Epoch 17/50\n",
      "80/81 [============================>.] - ETA: 0s - loss: 0.0030 - acc: 0.9992\n",
      "Epoch 17: val_acc did not improve from 0.99653\n",
      "81/81 [==============================] - 4s 53ms/step - loss: 0.0032 - acc: 0.9992 - val_loss: 0.0060 - val_acc: 0.9965 - lr: 1.0000e-05\n",
      "Epoch 18/50\n",
      "80/81 [============================>.] - ETA: 0s - loss: 0.0023 - acc: 0.9996\n",
      "Epoch 18: val_acc did not improve from 0.99653\n",
      "81/81 [==============================] - 4s 51ms/step - loss: 0.0023 - acc: 0.9996 - val_loss: 0.0056 - val_acc: 0.9965 - lr: 1.0000e-05\n",
      "Epoch 19/50\n",
      "80/81 [============================>.] - ETA: 0s - loss: 0.0021 - acc: 1.0000\n",
      "Epoch 19: val_acc did not improve from 0.99653\n",
      "81/81 [==============================] - 4s 49ms/step - loss: 0.0021 - acc: 1.0000 - val_loss: 0.0051 - val_acc: 0.9965 - lr: 1.0000e-05\n",
      "Epoch 20/50\n",
      "80/81 [============================>.] - ETA: 0s - loss: 0.0049 - acc: 0.9984\n",
      "Epoch 20: val_acc did not improve from 0.99653\n",
      "81/81 [==============================] - 4s 54ms/step - loss: 0.0048 - acc: 0.9985 - val_loss: 0.0058 - val_acc: 0.9965 - lr: 1.0000e-05\n",
      "Epoch 21/50\n",
      "81/81 [==============================] - ETA: 0s - loss: 0.0042 - acc: 0.9988\n",
      "Epoch 21: val_acc did not improve from 0.99653\n",
      "81/81 [==============================] - 4s 51ms/step - loss: 0.0042 - acc: 0.9988 - val_loss: 0.0064 - val_acc: 0.9965 - lr: 1.0000e-05\n",
      "Epoch 22/50\n",
      "81/81 [==============================] - ETA: 0s - loss: 0.0030 - acc: 0.9996\n",
      "Epoch 22: val_acc did not improve from 0.99653\n",
      "81/81 [==============================] - 4s 50ms/step - loss: 0.0030 - acc: 0.9996 - val_loss: 0.0065 - val_acc: 0.9965 - lr: 1.0000e-05\n",
      "Epoch 23/50\n",
      "80/81 [============================>.] - ETA: 0s - loss: 0.0021 - acc: 0.9996\n",
      "Epoch 23: val_acc did not improve from 0.99653\n",
      "81/81 [==============================] - 5s 58ms/step - loss: 0.0021 - acc: 0.9996 - val_loss: 0.0061 - val_acc: 0.9965 - lr: 1.0000e-05\n",
      "Epoch 24/50\n",
      "81/81 [==============================] - ETA: 0s - loss: 0.0023 - acc: 1.0000\n",
      "Epoch 24: val_acc did not improve from 0.99653\n",
      "81/81 [==============================] - 5s 56ms/step - loss: 0.0023 - acc: 1.0000 - val_loss: 0.0062 - val_acc: 0.9965 - lr: 1.0000e-05\n",
      "Epoch 25/50\n",
      "80/81 [============================>.] - ETA: 0s - loss: 0.0024 - acc: 0.9996\n",
      "Epoch 25: val_acc did not improve from 0.99653\n",
      "81/81 [==============================] - 4s 49ms/step - loss: 0.0041 - acc: 0.9992 - val_loss: 0.0062 - val_acc: 0.9965 - lr: 1.0000e-05\n",
      "Epoch 26/50\n",
      "80/81 [============================>.] - ETA: 0s - loss: 0.0028 - acc: 0.9988\n",
      "Epoch 26: val_acc did not improve from 0.99653\n",
      "81/81 [==============================] - 4s 51ms/step - loss: 0.0027 - acc: 0.9988 - val_loss: 0.0059 - val_acc: 0.9965 - lr: 1.0000e-05\n",
      "Epoch 27/50\n",
      "81/81 [==============================] - ETA: 0s - loss: 0.0045 - acc: 0.9981\n",
      "Epoch 27: val_acc did not improve from 0.99653\n",
      "81/81 [==============================] - 4s 49ms/step - loss: 0.0045 - acc: 0.9981 - val_loss: 0.0059 - val_acc: 0.9965 - lr: 1.0000e-05\n",
      "Epoch 28/50\n",
      "80/81 [============================>.] - ETA: 0s - loss: 0.0024 - acc: 0.9996\n",
      "Epoch 28: val_acc did not improve from 0.99653\n",
      "81/81 [==============================] - 4s 48ms/step - loss: 0.0024 - acc: 0.9996 - val_loss: 0.0055 - val_acc: 0.9965 - lr: 1.0000e-05\n",
      "Epoch 29/50\n",
      "80/81 [============================>.] - ETA: 0s - loss: 0.0033 - acc: 0.9980\n",
      "Epoch 29: val_acc did not improve from 0.99653\n",
      "81/81 [==============================] - 4s 49ms/step - loss: 0.0033 - acc: 0.9981 - val_loss: 0.0054 - val_acc: 0.9965 - lr: 1.0000e-05\n",
      "Epoch 30/50\n",
      "81/81 [==============================] - ETA: 0s - loss: 0.0035 - acc: 0.9981\n",
      "Epoch 30: val_acc did not improve from 0.99653\n",
      "81/81 [==============================] - 4s 52ms/step - loss: 0.0035 - acc: 0.9981 - val_loss: 0.0050 - val_acc: 0.9965 - lr: 1.0000e-05\n",
      "Epoch 31/50\n",
      "81/81 [==============================] - ETA: 0s - loss: 0.0026 - acc: 0.9988\n",
      "Epoch 31: val_acc did not improve from 0.99653\n",
      "81/81 [==============================] - 4s 51ms/step - loss: 0.0026 - acc: 0.9988 - val_loss: 0.0051 - val_acc: 0.9965 - lr: 1.0000e-05\n",
      "Epoch 32/50\n",
      "80/81 [============================>.] - ETA: 0s - loss: 0.0051 - acc: 0.9992\n",
      "Epoch 32: val_acc did not improve from 0.99653\n",
      "81/81 [==============================] - 4s 48ms/step - loss: 0.0050 - acc: 0.9992 - val_loss: 0.0050 - val_acc: 0.9965 - lr: 1.0000e-05\n",
      "Epoch 33/50\n",
      "80/81 [============================>.] - ETA: 0s - loss: 0.0026 - acc: 0.9988\n",
      "Epoch 33: val_acc did not improve from 0.99653\n",
      "81/81 [==============================] - 4s 53ms/step - loss: 0.0025 - acc: 0.9988 - val_loss: 0.0053 - val_acc: 0.9965 - lr: 1.0000e-05\n",
      "Epoch 34/50\n",
      "80/81 [============================>.] - ETA: 0s - loss: 0.0019 - acc: 0.9992\n",
      "Epoch 34: val_acc did not improve from 0.99653\n",
      "81/81 [==============================] - 4s 51ms/step - loss: 0.0021 - acc: 0.9992 - val_loss: 0.0053 - val_acc: 0.9965 - lr: 1.0000e-05\n",
      "Epoch 35/50\n",
      "81/81 [==============================] - ETA: 0s - loss: 0.0044 - acc: 0.9977\n",
      "Epoch 35: val_acc did not improve from 0.99653\n",
      "81/81 [==============================] - 4s 50ms/step - loss: 0.0044 - acc: 0.9977 - val_loss: 0.0054 - val_acc: 0.9965 - lr: 1.0000e-05\n",
      "Epoch 36/50\n",
      "80/81 [============================>.] - ETA: 0s - loss: 0.0030 - acc: 0.9988\n",
      "Epoch 36: val_acc did not improve from 0.99653\n",
      "81/81 [==============================] - 4s 50ms/step - loss: 0.0030 - acc: 0.9988 - val_loss: 0.0055 - val_acc: 0.9965 - lr: 1.0000e-05\n",
      "Epoch 37/50\n",
      "81/81 [==============================] - ETA: 0s - loss: 0.0035 - acc: 0.9985\n",
      "Epoch 37: val_acc did not improve from 0.99653\n",
      "81/81 [==============================] - 4s 50ms/step - loss: 0.0035 - acc: 0.9985 - val_loss: 0.0060 - val_acc: 0.9965 - lr: 1.0000e-05\n",
      "Epoch 38/50\n",
      "80/81 [============================>.] - ETA: 0s - loss: 0.0038 - acc: 0.9984\n",
      "Epoch 38: val_acc did not improve from 0.99653\n",
      "81/81 [==============================] - 4s 49ms/step - loss: 0.0038 - acc: 0.9985 - val_loss: 0.0057 - val_acc: 0.9965 - lr: 1.0000e-05\n",
      "Epoch 39/50\n",
      "80/81 [============================>.] - ETA: 0s - loss: 0.0042 - acc: 0.9988\n",
      "Epoch 39: val_acc did not improve from 0.99653\n",
      "81/81 [==============================] - 4s 49ms/step - loss: 0.0042 - acc: 0.9988 - val_loss: 0.0057 - val_acc: 0.9965 - lr: 1.0000e-05\n",
      "Epoch 40/50\n",
      "80/81 [============================>.] - ETA: 0s - loss: 0.0037 - acc: 0.9988\n",
      "Epoch 40: val_acc did not improve from 0.99653\n",
      "81/81 [==============================] - 4s 49ms/step - loss: 0.0036 - acc: 0.9988 - val_loss: 0.0050 - val_acc: 0.9965 - lr: 1.0000e-05\n",
      "Epoch 41/50\n",
      "80/81 [============================>.] - ETA: 0s - loss: 0.0037 - acc: 0.9992\n",
      "Epoch 41: val_acc did not improve from 0.99653\n",
      "81/81 [==============================] - 4s 49ms/step - loss: 0.0037 - acc: 0.9992 - val_loss: 0.0046 - val_acc: 0.9965 - lr: 1.0000e-05\n",
      "Epoch 42/50\n",
      "80/81 [============================>.] - ETA: 0s - loss: 0.0031 - acc: 0.9988\n",
      "Epoch 42: val_acc did not improve from 0.99653\n",
      "81/81 [==============================] - 4s 50ms/step - loss: 0.0031 - acc: 0.9988 - val_loss: 0.0045 - val_acc: 0.9965 - lr: 1.0000e-05\n",
      "Epoch 43/50\n",
      "80/81 [============================>.] - ETA: 0s - loss: 0.0037 - acc: 0.9992\n",
      "Epoch 43: val_acc did not improve from 0.99653\n",
      "81/81 [==============================] - 4s 53ms/step - loss: 0.0036 - acc: 0.9992 - val_loss: 0.0047 - val_acc: 0.9965 - lr: 1.0000e-05\n",
      "Epoch 44/50\n",
      "81/81 [==============================] - ETA: 0s - loss: 0.0033 - acc: 0.9988\n",
      "Epoch 44: val_acc did not improve from 0.99653\n",
      "81/81 [==============================] - 4s 53ms/step - loss: 0.0033 - acc: 0.9988 - val_loss: 0.0046 - val_acc: 0.9965 - lr: 1.0000e-05\n",
      "Epoch 45/50\n",
      "81/81 [==============================] - ETA: 0s - loss: 0.0019 - acc: 0.9996\n",
      "Epoch 45: val_acc did not improve from 0.99653\n",
      "81/81 [==============================] - 5s 64ms/step - loss: 0.0019 - acc: 0.9996 - val_loss: 0.0045 - val_acc: 0.9965 - lr: 1.0000e-05\n",
      "Epoch 46/50\n",
      "80/81 [============================>.] - ETA: 0s - loss: 0.0030 - acc: 0.9992\n",
      "Epoch 46: val_acc did not improve from 0.99653\n",
      "81/81 [==============================] - 4s 52ms/step - loss: 0.0030 - acc: 0.9992 - val_loss: 0.0049 - val_acc: 0.9965 - lr: 1.0000e-05\n",
      "Epoch 47/50\n",
      "81/81 [==============================] - ETA: 0s - loss: 0.0018 - acc: 0.9996\n",
      "Epoch 47: val_acc did not improve from 0.99653\n",
      "81/81 [==============================] - 4s 55ms/step - loss: 0.0018 - acc: 0.9996 - val_loss: 0.0044 - val_acc: 0.9965 - lr: 1.0000e-05\n",
      "Epoch 48/50\n",
      "81/81 [==============================] - ETA: 0s - loss: 0.0038 - acc: 0.9988\n",
      "Epoch 48: val_acc did not improve from 0.99653\n",
      "81/81 [==============================] - 5s 63ms/step - loss: 0.0038 - acc: 0.9988 - val_loss: 0.0050 - val_acc: 0.9965 - lr: 1.0000e-05\n",
      "Epoch 49/50\n",
      "80/81 [============================>.] - ETA: 0s - loss: 0.0029 - acc: 0.9992\n",
      "Epoch 49: val_acc did not improve from 0.99653\n",
      "81/81 [==============================] - 4s 54ms/step - loss: 0.0029 - acc: 0.9992 - val_loss: 0.0051 - val_acc: 0.9965 - lr: 1.0000e-05\n",
      "Epoch 50/50\n",
      "80/81 [============================>.] - ETA: 0s - loss: 0.0019 - acc: 1.0000\n",
      "Epoch 50: val_acc did not improve from 0.99653\n",
      "81/81 [==============================] - 4s 52ms/step - loss: 0.0020 - acc: 1.0000 - val_loss: 0.0047 - val_acc: 0.9965 - lr: 1.0000e-05\n"
     ]
    },
    {
     "data": {
      "text/plain": "<keras.src.callbacks.History at 0x2355a17e8b0>"
     },
     "execution_count": 7,
     "metadata": {},
     "output_type": "execute_result"
    }
   ],
   "source": [
    "\n",
    "\n",
    "model.fit_generator(\n",
    "    train_generator, epochs=50, validation_data=val_generator,\n",
    "    callbacks=[\n",
    "        ModelCheckpoint('models/model.h5', monitor='val_acc', save_best_only=True, mode='max', verbose=1),\n",
    "        ReduceLROnPlateau(monitor='val_acc', factor=0.2, patience=10, verbose=1, mode='auto', min_lr=1e-05)\n",
    "    ]\n",
    ")"
   ],
   "metadata": {
    "collapsed": false
   }
  },
  {
   "cell_type": "markdown",
   "source": [
    "# Confusion Matrix"
   ],
   "metadata": {
    "collapsed": false
   }
  },
  {
   "cell_type": "code",
   "execution_count": 9,
   "outputs": [
    {
     "name": "stdout",
     "output_type": "stream",
     "text": [
      "9/9 [==============================] - 1s 15ms/step\n",
      "test acc: 0.9965277777777778\n"
     ]
    },
    {
     "data": {
      "text/plain": "<Axes: >"
     },
     "execution_count": 9,
     "metadata": {},
     "output_type": "execute_result"
    },
    {
     "data": {
      "text/plain": "<Figure size 640x480 with 2 Axes>",
      "image/png": "[encoded data removed]"
     },
     "metadata": {},
     "output_type": "display_data"
    }
   ],
   "source": [
    "from sklearn.metrics import accuracy_score, confusion_matrix\n",
    "import seaborn as sns\n",
    "\n",
    "model = load_model('models/model.h5' )\n",
    "\n",
    "y_pred = model.predict(x_val/255.)\n",
    "y_pred_logical = (y_pred > 0.5).astype(int)\n",
    "\n",
    "print ('test acc: %s' % accuracy_score(y_val, y_pred_logical))\n",
    "cm = confusion_matrix(y_val, y_pred_logical)\n",
    "sns.heatmap(cm, annot=True)"
   ],
   "metadata": {
    "collapsed": false
   }
  },
  {
   "cell_type": "markdown",
   "source": [
    "# Distribution of Prediction"
   ],
   "metadata": {
    "collapsed": false
   }
  },
  {
   "cell_type": "code",
   "execution_count": 10,
   "outputs": [
    {
     "name": "stderr",
     "output_type": "stream",
     "text": [
      "C:\\Users\\Windows\\AppData\\Local\\Temp\\ipykernel_11780\\3214102087.py:1: UserWarning: \n",
      "\n",
      "`distplot` is a deprecated function and will be removed in seaborn v0.14.0.\n",
      "\n",
      "Please adapt your code to use either `displot` (a figure-level function with\n",
      "similar flexibility) or `histplot` (an axes-level function for histograms).\n",
      "\n",
      "For a guide to updating your code to use the new functions, please see\n",
      "https://gist.github.com/mwaskom/de44147ed2974457ad6372750bbe5751\n",
      "\n",
      "  ax = sns.distplot(y_pred, kde=False)\n"
     ]
    },
    {
     "data": {
      "text/plain": "<Figure size 640x480 with 1 Axes>",
      "image/png": "[encoded data removed]"
     },
     "metadata": {},
     "output_type": "display_data"
    }
   ],
   "source": [
    "ax = sns.distplot(y_pred, kde=False)"
   ],
   "metadata": {
    "collapsed": false
   }
  },
  {
   "cell_type": "code",
   "execution_count": null,
   "outputs": [],
   "source": [],
   "metadata": {
    "collapsed": false
   }
  }
 ],
 "metadata": {
  "kernelspec": {
   "display_name": "Python 3",
   "language": "python",
   "name": "python3"
  },
  "language_info": {
   "codemirror_mode": {
    "name": "ipython",
    "version": 2
   },
   "file_extension": ".py",
   "mimetype": "text/x-python",
   "name": "python",
   "nbconvert_exporter": "python",
   "pygments_lexer": "ipython2",
   "version": "2.7.6"
  }
 },
 "nbformat": 4,
 "nbformat_minor": 0
}
